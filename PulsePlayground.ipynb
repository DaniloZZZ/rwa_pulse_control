{
 "cells": [
  {
   "cell_type": "code",
   "execution_count": 1,
   "metadata": {},
   "outputs": [],
   "source": [
    "from qiskit import IBMQ\n",
    "import matplotlib.pyplot as plt\n",
    "IBMQ.load_account()\n",
    "\n",
    "provider_anl = IBMQ.get_provider(hub='ibm-q-ornl', group='bes-qis', project='argonne')\n",
    "provider = IBMQ.get_provider(hub='ibm-q', group='open', project='main')\n",
    "backend = provider.get_backend('ibmq_armonk')\n",
    "\n",
    "backend_config = backend.configuration()\n",
    "assert backend_config.open_pulse, \"Backend doesn't support OpenPulse\""
   ]
  },
  {
   "cell_type": "code",
   "execution_count": 6,
   "metadata": {},
   "outputs": [],
   "source": [
    "#provider.backends()"
   ]
  },
  {
   "cell_type": "markdown",
   "metadata": {},
   "source": [
    "### Get sampling time"
   ]
  },
  {
   "cell_type": "code",
   "execution_count": 125,
   "metadata": {},
   "outputs": [
    {
     "name": "stdout",
     "output_type": "stream",
     "text": [
      "Sampling time: 0.2222222222222222 ns\n"
     ]
    }
   ],
   "source": [
    "dt = backend_config.dt\n",
    "print(f\"Sampling time: {dt} ns\")   \n",
    "backend_defaults = backend.defaults()\n",
    "#backend_defaults"
   ]
  },
  {
   "cell_type": "markdown",
   "metadata": {},
   "source": [
    "## Get qubit frequency"
   ]
  },
  {
   "cell_type": "code",
   "execution_count": 147,
   "metadata": {},
   "outputs": [
    {
     "name": "stdout",
     "output_type": "stream",
     "text": [
      "Estimated frequency for qbit 0 is 4.974286302306341\n"
     ]
    },
    {
     "data": {
      "text/plain": [
       "array([4.9642863 , 4.96469447, 4.96510263, 4.96551079, 4.96591896,\n",
       "       4.96632712, 4.96673528, 4.96714345, 4.96755161, 4.96795977,\n",
       "       4.96836793, 4.9687761 , 4.96918426, 4.96959242, 4.97000059,\n",
       "       4.97040875, 4.97081691, 4.97122508, 4.97163324, 4.9720414 ,\n",
       "       4.97244957, 4.97285773, 4.97326589, 4.97367406, 4.97408222,\n",
       "       4.97449038, 4.97489855, 4.97530671, 4.97571487, 4.97612304,\n",
       "       4.9765312 , 4.97693936, 4.97734753, 4.97775569, 4.97816385,\n",
       "       4.97857202, 4.97898018, 4.97938834, 4.97979651, 4.98020467,\n",
       "       4.98061283, 4.981021  , 4.98142916, 4.98183732, 4.98224549,\n",
       "       4.98265365, 4.98306181, 4.98346998, 4.98387814, 4.9842863 ])"
      ]
     },
     "execution_count": 147,
     "metadata": {},
     "output_type": "execute_result"
    }
   ],
   "source": [
    "import numpy as np\n",
    "qbit = 0\n",
    "\n",
    "center_est_freq = backend_defaults.qubit_freq_est[qbit]\n",
    "print(f'Estimated frequency for qbit {qbit} is {center_est_freq}')\n",
    "freq_span = .02\n",
    "\n",
    "frequencies = np.linspace(center_est_freq-freq_span/2,\n",
    "                       center_est_freq+freq_span/2, \n",
    "                       50\n",
    "                      )\n",
    "frequencies"
   ]
  },
  {
   "cell_type": "markdown",
   "metadata": {},
   "source": [
    "All durations in pulse are given in terms of dt"
   ]
  },
  {
   "cell_type": "code",
   "execution_count": 148,
   "metadata": {},
   "outputs": [],
   "source": [
    "from qiskit import pulse            \n",
    "from qiskit.pulse import pulse_lib \n",
    "# samples need to be multiples of 16\n",
    "def get_closest_multiple_of_16(num):\n",
    "    return (int(num) - (int(num)%16))"
   ]
  },
  {
   "cell_type": "code",
   "execution_count": 149,
   "metadata": {},
   "outputs": [
    {
     "data": {
      "image/png": "[encoded data removed]",
      "text/plain": [
       "<Figure size 504x360 with 1 Axes>"
      ]
     },
     "execution_count": 149,
     "metadata": {},
     "output_type": "execute_result"
    }
   ],
   "source": [
    "# Drive pulse parameters (us = microsecond)\n",
    "# This determines the actual width of the gaussians\n",
    "drive_sigma_ns = 75                     \n",
    "# This is a truncating parameter\n",
    "drive_samples_ns = drive_sigma_ns*8        \n",
    "\n",
    "drive_sigma = get_closest_multiple_of_16(drive_sigma_ns / dt)       # The width of the gaussian in units of dt\n",
    "drive_samples = get_closest_multiple_of_16(drive_samples_ns / dt)   # The truncating parameter in units of dt\n",
    "drive_amp = 0.3\n",
    "# Drive pulse samples\n",
    "drive_pulse = pulse_lib.gaussian(duration=drive_samples,\n",
    "                                 sigma=drive_sigma,\n",
    "                                 amp=drive_amp,\n",
    "                                 name='freq_sweep_excitation_pulse')\n",
    "drive_pulse.draw()"
   ]
  },
  {
   "cell_type": "code",
   "execution_count": 180,
   "metadata": {},
   "outputs": [
    {
     "data": {
      "image/png": "[encoded data removed]",
      "text/plain": [
       "<Figure size 504x360 with 1 Axes>"
      ]
     },
     "execution_count": 180,
     "metadata": {},
     "output_type": "execute_result"
    }
   ],
   "source": [
    "### Construct the measurement pulse\n",
    "# Measurement pulse parameters\n",
    "\n",
    "meas_samples_ns = 1000\n",
    "meas_sigma_ns = 14\n",
    "# The width of the gaussian part of the rise and fall\n",
    "meas_risefall_ns = 100    \n",
    "# and the truncating parameter: how many samples to dedicate to the risefall\n",
    "\n",
    "meas_samples = get_closest_multiple_of_16(meas_samples_ns / dt)\n",
    "meas_sigma = get_closest_multiple_of_16(meas_sigma_ns / dt)       # The width of the gaussian part in units of dt\n",
    "meas_risefall = get_closest_multiple_of_16(meas_risefall_ns / dt) # The truncating parameter in units of dt\n",
    "\n",
    "meas_amp = 0.25\n",
    "# Measurement pulse samples\n",
    "meas_pulse = pulse_lib.gaussian_square(duration=meas_samples,\n",
    "                                       sigma=meas_sigma,\n",
    "                                       amp=meas_amp,\n",
    "                                       risefall=meas_risefall,\n",
    "                                       name='measurement_pulse')\n",
    "meas_pulse.draw()"
   ]
  },
  {
   "cell_type": "code",
   "execution_count": 181,
   "metadata": {},
   "outputs": [],
   "source": [
    "### Construct the acquire pulse to trigger the acquisition\n",
    "# Acquire pulse samples\n",
    "acq_cmd = pulse.Acquire(duration=meas_samples)\n",
    "# Find out which group of qubits need to be acquired with this qubit\n",
    "meas_map_idx = None\n",
    "for i, measure_group in enumerate(backend_config.meas_map):\n",
    "    if qbit in measure_group:\n",
    "        meas_map_idx = i\n",
    "        break\n",
    "assert meas_map_idx is not None, f\"Couldn't find qubit {qubit} in the meas_map!\""
   ]
  },
  {
   "cell_type": "code",
   "execution_count": 182,
   "metadata": {},
   "outputs": [],
   "source": [
    "### Collect the necessary channels\n",
    "drive_chan = pulse.DriveChannel(qbit)\n",
    "meas_chan = pulse.MeasureChannel(qbit)\n",
    "acq_chan = pulse.AcquireChannel(qbit)"
   ]
  },
  {
   "cell_type": "code",
   "execution_count": 205,
   "metadata": {},
   "outputs": [],
   "source": [
    "# Create the base schedule\n",
    "# Start with drive pulse acting on the drive channel\n",
    "schedule = pulse.Schedule(name='Frequency sweep')\n",
    "schedule += drive_pulse(drive_chan)\n",
    "\n",
    "# In a new schedule, which we will use again later, add a measurement stimulus on the\n",
    "# measure channel pulse to trigger readout\n",
    "measure_schedule = meas_pulse(meas_chan)\n",
    "# Trigger data acquisition, and store measured values into respective memory slots\n",
    "measure_schedule += acq_cmd([pulse.AcquireChannel(i) for i \n",
    "                             in backend_config.meas_map[meas_map_idx]],\n",
    "                            [pulse.MemorySlot(i) for i \n",
    "                             in backend_config.meas_map[meas_map_idx]])\n",
    "\n",
    "# shift the start time of the schedule by some duration\n",
    "schedule += measure_schedule << schedule.duration\n",
    "schedule += drive_pulse(drive_chan)<< schedule.duration - drive_pulse.duration\n",
    "schedule += measure_schedule << drive_pulse.duration\n",
    "\n",
    "# Create the frequency settings for the sweep (MUST BE IN HZ)\n",
    "schedule_frequencies = [{drive_chan: freq} for freq in frequencies]"
   ]
  },
  {
   "cell_type": "code",
   "execution_count": 206,
   "metadata": {},
   "outputs": [
    {
     "data": {
      "image/png": "[encoded data removed]",
      "text/plain": [
       "<Figure size 720x864 with 1 Axes>"
      ]
     },
     "execution_count": 206,
     "metadata": {},
     "output_type": "execute_result"
    }
   ],
   "source": [
    "schedule.draw(channels_to_plot=[drive_chan, meas_chan], label=True, scaling=1.0)"
   ]
  },
  {
   "cell_type": "code",
   "execution_count": 207,
   "metadata": {},
   "outputs": [],
   "source": [
    "from qiskit import assemble\n",
    "\n",
    "num_shots_per_frequency = 1024\n",
    "frequency_sweep_program = assemble(schedule,\n",
    "                                   backend=backend, \n",
    "                                   meas_level=1,\n",
    "                                   meas_return='avg',\n",
    "                                   shots=num_shots_per_frequency,\n",
    "                                   schedule_los=schedule_frequencies)"
   ]
  },
  {
   "cell_type": "code",
   "execution_count": 208,
   "metadata": {},
   "outputs": [],
   "source": [
    "job = backend.run(frequency_sweep_program)"
   ]
  },
  {
   "cell_type": "code",
   "execution_count": 209,
   "metadata": {},
   "outputs": [
    {
     "name": "stdout",
     "output_type": "stream",
     "text": [
      "Job Status: job incurred error      \n"
     ]
    }
   ],
   "source": [
    "from qiskit.tools.monitor import job_monitor\n",
    "job_monitor(job)"
   ]
  },
  {
   "cell_type": "code",
   "execution_count": 199,
   "metadata": {},
   "outputs": [
    {
     "data": {
      "text/plain": [
       "'ERROR_RUNNING_JOB'"
      ]
     },
     "execution_count": 199,
     "metadata": {},
     "output_type": "execute_result"
    }
   ],
   "source": [
    "job.error_message()"
   ]
  },
  {
   "cell_type": "code",
   "execution_count": 200,
   "metadata": {},
   "outputs": [
    {
     "ename": "JobError",
     "evalue": "'Invalid job state. The job should be DONE but it is JobStatus.ERROR'",
     "output_type": "error",
     "traceback": [
      "\u001b[0;31m---------------------------------------------------------------------------\u001b[0m",
      "\u001b[0;31mJobError\u001b[0m                                  Traceback (most recent call last)",
      "\u001b[0;32m<ipython-input-200-11cf54f0393a>\u001b[0m in \u001b[0;36m<module>\u001b[0;34m\u001b[0m\n\u001b[0;32m----> 1\u001b[0;31m \u001b[0mfrequency_sweep_results\u001b[0m \u001b[0;34m=\u001b[0m \u001b[0mjob\u001b[0m\u001b[0;34m.\u001b[0m\u001b[0mresult\u001b[0m\u001b[0;34m(\u001b[0m\u001b[0mtimeout\u001b[0m\u001b[0;34m=\u001b[0m\u001b[0;36m120\u001b[0m\u001b[0;34m)\u001b[0m \u001b[0;31m# timeout parameter set to 120 seconds\u001b[0m\u001b[0;34m\u001b[0m\u001b[0;34m\u001b[0m\u001b[0m\n\u001b[0m\u001b[1;32m      2\u001b[0m \u001b[0mprint\u001b[0m\u001b[0;34m(\u001b[0m\u001b[0mfrequency_sweep_results\u001b[0m\u001b[0;34m)\u001b[0m\u001b[0;34m\u001b[0m\u001b[0;34m\u001b[0m\u001b[0m\n",
      "\u001b[0;32m/usr/lib/python3.7/site-packages/qiskit/providers/ibmq/job/ibmqjob.py\u001b[0m in \u001b[0;36mresult\u001b[0;34m(self, timeout, wait)\u001b[0m\n\u001b[1;32m    252\u001b[0m         \u001b[0;32mif\u001b[0m \u001b[0mstatus\u001b[0m \u001b[0;32mis\u001b[0m \u001b[0;32mnot\u001b[0m \u001b[0mJobStatus\u001b[0m\u001b[0;34m.\u001b[0m\u001b[0mDONE\u001b[0m\u001b[0;34m:\u001b[0m\u001b[0;34m\u001b[0m\u001b[0;34m\u001b[0m\u001b[0m\n\u001b[1;32m    253\u001b[0m             raise JobError('Invalid job state. The job should be DONE but '\n\u001b[0;32m--> 254\u001b[0;31m                            'it is {}'.format(str(status)))\n\u001b[0m\u001b[1;32m    255\u001b[0m \u001b[0;34m\u001b[0m\u001b[0m\n\u001b[1;32m    256\u001b[0m         \u001b[0;32mif\u001b[0m \u001b[0;32mnot\u001b[0m \u001b[0mself\u001b[0m\u001b[0;34m.\u001b[0m\u001b[0m_result\u001b[0m\u001b[0;34m:\u001b[0m\u001b[0;34m\u001b[0m\u001b[0;34m\u001b[0m\u001b[0m\n",
      "\u001b[0;31mJobError\u001b[0m: 'Invalid job state. The job should be DONE but it is JobStatus.ERROR'"
     ]
    }
   ],
   "source": [
    "frequency_sweep_results = job.result(timeout=120) # timeout parameter set to 120 seconds\n",
    "print(frequency_sweep_results)"
   ]
  },
  {
   "cell_type": "code",
   "execution_count": 160,
   "metadata": {},
   "outputs": [
    {
     "data": {
      "image/png": "[encoded data removed]",
      "text/plain": [
       "<Figure size 432x288 with 1 Axes>"
      ]
     },
     "metadata": {
      "needs_background": "light"
     },
     "output_type": "display_data"
    }
   ],
   "source": [
    "sweep_values = []\n",
    "for i in range(len(frequency_sweep_results.results)):\n",
    "    # Get the results from the ith experiment\n",
    "    res = frequency_sweep_results.get_memory(i)\n",
    "    # Get the results for `qubit` from this experiment\n",
    "    sweep_values.append(res[qbit])\n",
    "\n",
    "plt.scatter(frequencies, sweep_values, color='black') # plot real part of sweep values\n",
    "plt.xlim([min(frequencies), max(frequencies)])\n",
    "plt.xlabel(\"Frequency [GHz]\")\n",
    "plt.ylabel(\"Measured signal [a.u.]\")\n",
    "plt.show()"
   ]
  },
  {
   "cell_type": "markdown",
   "metadata": {},
   "source": [
    "### Fit results"
   ]
  },
  {
   "cell_type": "code",
   "execution_count": 161,
   "metadata": {},
   "outputs": [],
   "source": [
    "from scipy.optimize import curve_fit\n",
    "\n",
    "def fit_function(x_values, y_values, function, init_params):\n",
    "    fitparams, conv = curve_fit(function, x_values, y_values, init_params)\n",
    "    y_fit = function(x_values, *fitparams)\n",
    "    \n",
    "    return fitparams, y_fit"
   ]
  },
  {
   "cell_type": "code",
   "execution_count": 168,
   "metadata": {},
   "outputs": [
    {
     "name": "stdout",
     "output_type": "stream",
     "text": [
      "[-1.42338245e+08  4.97434495e+00  1.48659252e-03  1.25651437e+10]\n"
     ]
    },
    {
     "name": "stderr",
     "output_type": "stream",
     "text": [
      "/usr/lib/python3.7/site-packages/scipy/optimize/minpack.py:725: ComplexWarning: Casting complex values to real discards the imaginary part\n",
      "  ydata = ydata.astype(float)\n"
     ]
    }
   ],
   "source": [
    "fit_params, y_fit = fit_function(frequencies,\n",
    "                                 sweep_values, \n",
    "                                 lambda x, A, q_freq, B, C: (A / np.pi) * (B / ((x - q_freq)**2 + B**2)) + C,\n",
    "                                 [-2e10, 4.975, 1, 3e10] # initial parameters for curve_fit\n",
    "                                )\n",
    "print(fit_params)"
   ]
  },
  {
   "cell_type": "code",
   "execution_count": 163,
   "metadata": {},
   "outputs": [
    {
     "data": {
      "image/png": "[encoded data removed]",
      "text/plain": [
       "<Figure size 432x288 with 1 Axes>"
      ]
     },
     "metadata": {
      "needs_background": "light"
     },
     "output_type": "display_data"
    }
   ],
   "source": [
    "plt.scatter(frequencies, sweep_values, color='black')\n",
    "plt.plot(frequencies, y_fit, color='red')\n",
    "plt.xlim([min(frequencies), max(frequencies)])\n",
    "\n",
    "plt.xlabel(\"Frequency [GHz]\")\n",
    "plt.ylabel(\"Measured Signal [a.u.]\")\n",
    "plt.show()"
   ]
  },
  {
   "cell_type": "code",
   "execution_count": 167,
   "metadata": {},
   "outputs": [
    {
     "name": "stdout",
     "output_type": "stream",
     "text": [
      "Fit center: 4.9743449511185425\n",
      "IBM center: 4.974286302306341\n",
      "IBM error: 1.179025837125023e-05\n"
     ]
    }
   ],
   "source": [
    "print(\"Fit center:\",fit_params[1])\n",
    "print(\"IBM center:\", center_est_freq)\n",
    "print(\"IBM error:\", (fit_params[1]-center_est_freq)/fit_params[1])"
   ]
  },
  {
   "cell_type": "code",
   "execution_count": null,
   "metadata": {},
   "outputs": [],
   "source": []
  }
 ],
 "metadata": {
  "kernelspec": {
   "display_name": "Python 3",
   "language": "python",
   "name": "python3"
  },
  "language_info": {
   "codemirror_mode": {
    "name": "ipython",
    "version": 3
   },
   "file_extension": ".py",
   "mimetype": "text/x-python",
   "name": "python",
   "nbconvert_exporter": "python",
   "pygments_lexer": "ipython3",
   "version": "3.7.3"
  }
 },
 "nbformat": 4,
 "nbformat_minor": 2
}
