{
 "cells": [
  {
   "cell_type": "code",
   "execution_count": 6,
   "metadata": {},
   "outputs": [],
   "source": [
    "import numpy as np\n",
    "import matplotlib.pyplot as plt\n",
    "\n",
    "from qiskit import IBMQ\n",
    "from qiskit import pulse            \n",
    "from qiskit.pulse import pulse_lib \n",
    "from qiskit import assemble\n",
    "from qiskit.tools.monitor import job_monitor\n",
    "\n",
    "from init import (\n",
    "    backend as init_backend\n",
    "    ,backend_open_pulse as init_open_pulse\n",
    "    ,provider\n",
    ")\n",
    "\n",
    "from utils import (\n",
    "    make_drive_pulse, make_meas_pulse\n",
    "    ,freq_sweep_schedule\n",
    "    ,sweep_program\n",
    "    ,qbit_freqs\n",
    ")\n"
   ]
  },
  {
   "cell_type": "code",
   "execution_count": null,
   "metadata": {},
   "outputs": [],
   "source": [
    "anl = provider('anl')"
   ]
  },
  {
   "cell_type": "code",
   "execution_count": 10,
   "metadata": {},
   "outputs": [
    {
     "name": "stdout",
     "output_type": "stream",
     "text": [
      "ibmq_qasm_simulator False\n",
      "ibmqx2 False\n",
      "ibmq_16_melbourne False\n",
      "ibmq_poughkeepsie True\n",
      "ibmq_boeblingen True\n",
      "ibmq_vigo False\n",
      "ibmq_ourense False\n",
      "ibmq_johannesburg True\n",
      "ibmq_rochester False\n"
     ]
    }
   ],
   "source": [
    "for back in anl.backends():\n",
    "    conf = back.configuration()\n",
    "    print(back, conf.open_pulse)\n",
    "    \n"
   ]
  },
  {
   "cell_type": "code",
   "execution_count": 67,
   "metadata": {},
   "outputs": [
    {
     "name": "stdout",
     "output_type": "stream",
     "text": [
      "Initializing IBMQ ibmq_johannesburg\n"
     ]
    }
   ],
   "source": [
    "#backend = init_open_pulse()\n",
    "backend = init_backend('ibmq_johannesburg', provider_name='anl')"
   ]
  },
  {
   "cell_type": "code",
   "execution_count": 68,
   "metadata": {},
   "outputs": [
    {
     "name": "stdout",
     "output_type": "stream",
     "text": [
      "Estimated frequency for qbit 0 is 4.664856171304275\n",
      "Sampling time: 3.5555555555555554 ns\n"
     ]
    }
   ],
   "source": [
    "frequency_sweep_program = sweep_program(backend, frequencies=None)"
   ]
  },
  {
   "cell_type": "code",
   "execution_count": 69,
   "metadata": {},
   "outputs": [],
   "source": [
    "job = backend.run(frequency_sweep_program)"
   ]
  },
  {
   "cell_type": "code",
   "execution_count": 90,
   "metadata": {},
   "outputs": [
    {
     "data": {
      "text/plain": [
       "<JobStatus.QUEUED: 'job is queued'>"
      ]
     },
     "execution_count": 90,
     "metadata": {},
     "output_type": "execute_result"
    }
   ],
   "source": [
    "#job_monitor(job)\n",
    "job.status()\n",
    "#job.error_message()"
   ]
  },
  {
   "cell_type": "code",
   "execution_count": 97,
   "metadata": {},
   "outputs": [],
   "source": [
    "from qiskit.providers.ibmq.job.ibmqjob import IBMQJob\n",
    "\n",
    "Client = (job._api.__class__)\n",
    "proj_url = anl.credentials.url\n",
    "ws_url = anl.credentials.websockets_url\n",
    "token = anl.credentials.token\n",
    "job_id = None\n",
    "# api instance\n",
    "client = Client(token, proj_url, ws_url)\n",
    "\n",
    "j_ = IBMQJob(anl, job_id, client, qobj=frequency_sweep_program)"
   ]
  },
  {
   "cell_type": "code",
   "execution_count": 95,
   "metadata": {},
   "outputs": [
    {
     "data": {
      "text/plain": [
       "<JobStatus.INITIALIZING: 'job is being initialized'>"
      ]
     },
     "execution_count": 95,
     "metadata": {},
     "output_type": "execute_result"
    }
   ],
   "source": [
    "j_.status()"
   ]
  },
  {
   "cell_type": "code",
   "execution_count": null,
   "metadata": {},
   "outputs": [
    {
     "name": "stdout",
     "output_type": "stream",
     "text": [
      "Job Status: job is queued (30)      "
     ]
    }
   ],
   "source": [
    "def unpack_results(results):\n",
    "    sweep_values = []\n",
    "    for i in range(len(results.results)):\n",
    "        # Get the results from the ith experiment\n",
    "        res = results.get_memory(i)\n",
    "        # Get the results for `qubit` from this experiment\n",
    "        sweep_values.append(res[qbit])\n",
    "    return sweep_values\n",
    "\n",
    "results = job.result(timeout=120)"
   ]
  },
  {
   "cell_type": "code",
   "execution_count": 7,
   "metadata": {},
   "outputs": [
    {
     "ename": "NameError",
     "evalue": "name 'job' is not defined",
     "output_type": "error",
     "traceback": [
      "\u001b[0;31m---------------------------------------------------------------------------\u001b[0m",
      "\u001b[0;31mNameError\u001b[0m                                 Traceback (most recent call last)",
      "\u001b[0;32m<ipython-input-7-5916ad2f35c4>\u001b[0m in \u001b[0;36m<module>\u001b[0;34m\u001b[0m\n\u001b[0;32m----> 1\u001b[0;31m \u001b[0mfrequency_sweep_results\u001b[0m \u001b[0;34m=\u001b[0m \u001b[0mjob\u001b[0m\u001b[0;34m.\u001b[0m\u001b[0mresult\u001b[0m\u001b[0;34m(\u001b[0m\u001b[0mtimeout\u001b[0m\u001b[0;34m=\u001b[0m\u001b[0;36m120\u001b[0m\u001b[0;34m)\u001b[0m \u001b[0;31m# timeout parameter set to 120 seconds\u001b[0m\u001b[0;34m\u001b[0m\u001b[0;34m\u001b[0m\u001b[0m\n\u001b[0m\u001b[1;32m      2\u001b[0m \u001b[0mprint\u001b[0m\u001b[0;34m(\u001b[0m\u001b[0mfrequency_sweep_results\u001b[0m\u001b[0;34m)\u001b[0m\u001b[0;34m\u001b[0m\u001b[0;34m\u001b[0m\u001b[0m\n\u001b[1;32m      3\u001b[0m \u001b[0;34m\u001b[0m\u001b[0m\n\u001b[1;32m      4\u001b[0m \u001b[0msweep_values\u001b[0m \u001b[0;34m=\u001b[0m \u001b[0;34m[\u001b[0m\u001b[0;34m]\u001b[0m\u001b[0;34m\u001b[0m\u001b[0;34m\u001b[0m\u001b[0m\n\u001b[1;32m      5\u001b[0m \u001b[0;32mfor\u001b[0m \u001b[0mi\u001b[0m \u001b[0;32min\u001b[0m \u001b[0mrange\u001b[0m\u001b[0;34m(\u001b[0m\u001b[0mlen\u001b[0m\u001b[0;34m(\u001b[0m\u001b[0mfrequency_sweep_results\u001b[0m\u001b[0;34m.\u001b[0m\u001b[0mresults\u001b[0m\u001b[0;34m)\u001b[0m\u001b[0;34m)\u001b[0m\u001b[0;34m:\u001b[0m\u001b[0;34m\u001b[0m\u001b[0;34m\u001b[0m\u001b[0m\n",
      "\u001b[0;31mNameError\u001b[0m: name 'job' is not defined"
     ]
    }
   ],
   "source": [
    "frequency_sweep_results = job.result(timeout=120) # timeout parameter set to 120 seconds\n",
    "print(frequency_sweep_results)\n",
    "\n",
    "\n",
    "plt.scatter(frequencies, sweep_values, color='black') # plot real part of sweep values\n",
    "plt.xlim([min(frequencies), max(frequencies)])\n",
    "plt.xlabel(\"Frequency [GHz]\")\n",
    "plt.ylabel(\"Measured signal [a.u.]\")\n",
    "plt.show()\n",
    "\n",
    "### Fit results\n",
    "\n",
    "from scipy.optimize import curve_fit\n",
    "\n",
    "def fit_function(x_values, y_values, function, init_params):\n",
    "    fitparams, conv = curve_fit(function, x_values, y_values, init_params)\n",
    "    y_fit = function(x_values, *fitparams)\n",
    "    \n",
    "    return fitparams, y_fit\n",
    "\n",
    "fit_params, y_fit = fit_function(frequencies,\n",
    "                                 sweep_values, \n",
    "                                 lambda x, A, q_freq, B, C: (A / np.pi) * (B / ((x - q_freq)**2 + B**2)) + C,\n",
    "                                 [-2e10, 4.975, 1, 3e10] # initial parameters for curve_fit\n",
    "                                )\n",
    "print(fit_params)\n",
    "\n",
    "plt.scatter(frequencies, sweep_values, color='black')\n",
    "plt.plot(frequencies, y_fit, color='red')\n",
    "plt.xlim([min(frequencies), max(frequencies)])\n",
    "\n",
    "plt.xlabel(\"Frequency [GHz]\")\n",
    "plt.ylabel(\"Measured Signal [a.u.]\")\n",
    "plt.show()\n",
    "\n",
    "print(\"Fit center:\",fit_params[1])\n",
    "print(\"IBM center:\", center_est_freq)\n",
    "print(\"IBM error:\", (fit_params[1]-center_est_freq)/fit_params[1])"
   ]
  },
  {
   "cell_type": "code",
   "execution_count": null,
   "metadata": {},
   "outputs": [],
   "source": []
  }
 ],
 "metadata": {
  "kernelspec": {
   "display_name": "Python 3",
   "language": "python",
   "name": "python3"
  },
  "language_info": {
   "codemirror_mode": {
    "name": "ipython",
    "version": 3
   },
   "file_extension": ".py",
   "mimetype": "text/x-python",
   "name": "python",
   "nbconvert_exporter": "python",
   "pygments_lexer": "ipython3",
   "version": "3.7.3"
  }
 },
 "nbformat": 4,
 "nbformat_minor": 2
}
